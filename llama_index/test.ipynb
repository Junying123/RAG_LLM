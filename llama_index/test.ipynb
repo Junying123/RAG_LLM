{
 "cells": [
  {
   "cell_type": "code",
   "execution_count": 1,
   "metadata": {},
   "outputs": [
    {
     "data": {
      "text/plain": [
       "True"
      ]
     },
     "execution_count": 1,
     "metadata": {},
     "output_type": "execute_result"
    }
   ],
   "source": [
    "import os\n",
    "from dotenv import load_dotenv\n",
    "load_dotenv()"
   ]
  },
  {
   "cell_type": "code",
   "execution_count": 2,
   "metadata": {},
   "outputs": [],
   "source": [
    "os.environ['OPENAI_API_KEY']=os.getenv(\"OPENAI_API_KEY\")"
   ]
  },
  {
   "cell_type": "code",
   "execution_count": 5,
   "metadata": {},
   "outputs": [
    {
     "name": "stderr",
     "output_type": "stream",
     "text": [
      "incorrect startxref pointer(1)\n"
     ]
    }
   ],
   "source": [
    "from llama_index.core import SimpleDirectoryReader\n",
    "documents = SimpleDirectoryReader('data').load_data()"
   ]
  },
  {
   "cell_type": "code",
   "execution_count": 8,
   "metadata": {},
   "outputs": [
    {
     "data": {
      "text/plain": [
       "[Document(id_='9ff59d70-a1a4-4f3a-bd77-2e3dc470eab5', embedding=None, metadata={'page_label': '1', 'file_name': 'Human-Nutrition-2020-Edition-1598491699.pdf', 'file_path': 'c:\\\\Users\\\\User\\\\llama_index\\\\data\\\\Human-Nutrition-2020-Edition-1598491699.pdf', 'file_type': 'application/pdf', 'file_size': 48123621, 'creation_date': '2024-04-12', 'last_modified_date': '2024-04-12'}, excluded_embed_metadata_keys=['file_name', 'file_type', 'file_size', 'creation_date', 'last_modified_date', 'last_accessed_date'], excluded_llm_metadata_keys=['file_name', 'file_type', 'file_size', 'creation_date', 'last_modified_date', 'last_accessed_date'], relationships={}, text='', start_char_idx=None, end_char_idx=None, text_template='{metadata_str}\\n\\n{content}', metadata_template='{key}: {value}', metadata_seperator='\\n'),\n",
       " Document(id_='0c34eac9-f934-49c7-b34d-13b5f32200fa', embedding=None, metadata={'page_label': '2', 'file_name': 'Human-Nutrition-2020-Edition-1598491699.pdf', 'file_path': 'c:\\\\Users\\\\User\\\\llama_index\\\\data\\\\Human-Nutrition-2020-Edition-1598491699.pdf', 'file_type': 'application/pdf', 'file_size': 48123621, 'creation_date': '2024-04-12', 'last_modified_date': '2024-04-12'}, excluded_embed_metadata_keys=['file_name', 'file_type', 'file_size', 'creation_date', 'last_modified_date', 'last_accessed_date'], excluded_llm_metadata_keys=['file_name', 'file_type', 'file_size', 'creation_date', 'last_modified_date', 'last_accessed_date'], relationships={}, text='', start_char_idx=None, end_char_idx=None, text_template='{metadata_str}\\n\\n{content}', metadata_template='{key}: {value}', metadata_seperator='\\n'),\n",
       " Document(id_='addc6d36-ebc9-4df2-8f4a-a4116d5b9bd6', embedding=None, metadata={'page_label': '3', 'file_name': 'Human-Nutrition-2020-Edition-1598491699.pdf', 'file_path': 'c:\\\\Users\\\\User\\\\llama_index\\\\data\\\\Human-Nutrition-2020-Edition-1598491699.pdf', 'file_type': 'application/pdf', 'file_size': 48123621, 'creation_date': '2024-04-12', 'last_modified_date': '2024-04-12'}, excluded_embed_metadata_keys=['file_name', 'file_type', 'file_size', 'creation_date', 'last_modified_date', 'last_accessed_date'], excluded_llm_metadata_keys=['file_name', 'file_type', 'file_size', 'creation_date', 'last_modified_date', 'last_accessed_date'], relationships={}, text='', start_char_idx=None, end_char_idx=None, text_template='{metadata_str}\\n\\n{content}', metadata_template='{key}: {value}', metadata_seperator='\\n'),\n",
       " Document(id_='c768a07b-b339-4c94-8e94-55acc2cf4622', embedding=None, metadata={'page_label': '4', 'file_name': 'Human-Nutrition-2020-Edition-1598491699.pdf', 'file_path': 'c:\\\\Users\\\\User\\\\llama_index\\\\data\\\\Human-Nutrition-2020-Edition-1598491699.pdf', 'file_type': 'application/pdf', 'file_size': 48123621, 'creation_date': '2024-04-12', 'last_modified_date': '2024-04-12'}, excluded_embed_metadata_keys=['file_name', 'file_type', 'file_size', 'creation_date', 'last_modified_date', 'last_accessed_date'], excluded_llm_metadata_keys=['file_name', 'file_type', 'file_size', 'creation_date', 'last_modified_date', 'last_accessed_date'], relationships={}, text='', start_char_idx=None, end_char_idx=None, text_template='{metadata_str}\\n\\n{content}', metadata_template='{key}: {value}', metadata_seperator='\\n'),\n",
       " Document(id_='de06bfbb-fbc1-468d-a5c0-93790afc686e', embedding=None, metadata={'page_label': '5', 'file_name': 'Human-Nutrition-2020-Edition-1598491699.pdf', 'file_path': 'c:\\\\Users\\\\User\\\\llama_index\\\\data\\\\Human-Nutrition-2020-Edition-1598491699.pdf', 'file_type': 'application/pdf', 'file_size': 48123621, 'creation_date': '2024-04-12', 'last_modified_date': '2024-04-12'}, excluded_embed_metadata_keys=['file_name', 'file_type', 'file_size', 'creation_date', 'last_modified_date', 'last_accessed_date'], excluded_llm_metadata_keys=['file_name', 'file_type', 'file_size', 'creation_date', 'last_modified_date', 'last_accessed_date'], relationships={}, text='', start_char_idx=None, end_char_idx=None, text_template='{metadata_str}\\n\\n{content}', metadata_template='{key}: {value}', metadata_seperator='\\n')]"
      ]
     },
     "execution_count": 8,
     "metadata": {},
     "output_type": "execute_result"
    }
   ],
   "source": [
    "documents[:5]"
   ]
  },
  {
   "cell_type": "code",
   "execution_count": 6,
   "metadata": {},
   "outputs": [],
   "source": [
    "from llama_index.core import Document\n",
    "\n",
    "doc = Document(text=\"text\")"
   ]
  },
  {
   "cell_type": "code",
   "execution_count": 11,
   "metadata": {},
   "outputs": [
    {
     "name": "stderr",
     "output_type": "stream",
     "text": [
      "Parsing nodes:   0%|          | 0/1208 [00:00<?, ?it/s]"
     ]
    },
    {
     "name": "stderr",
     "output_type": "stream",
     "text": [
      "Parsing nodes: 100%|██████████| 1208/1208 [00:00<00:00, 2981.91it/s]\n",
      "Generating embeddings: 100%|██████████| 1208/1208 [00:27<00:00, 44.02it/s]\n"
     ]
    }
   ],
   "source": [
    "from llama_index.core import VectorStoreIndex\n",
    "\n",
    "vector_index = VectorStoreIndex.from_documents(documents, show_progress=True)\n",
    "query_engine = vector_index.as_query_engine()"
   ]
  },
  {
   "cell_type": "code",
   "execution_count": 12,
   "metadata": {},
   "outputs": [
    {
     "data": {
      "text/plain": [
       "<llama_index.core.query_engine.retriever_query_engine.RetrieverQueryEngine at 0x1938eac0160>"
      ]
     },
     "execution_count": 12,
     "metadata": {},
     "output_type": "execute_result"
    }
   ],
   "source": [
    "query_engine"
   ]
  },
  {
   "cell_type": "code",
   "execution_count": 39,
   "metadata": {},
   "outputs": [],
   "source": [
    "from llama_index.core.retrievers import VectorIndexRetriever\n",
    "from llama_index.core.query_engine.retriever_query_engine import RetrieverQueryEngine\n",
    "from llama_index.core.indices.postprocessor import SimilarityPostprocessor\n",
    "\n",
    "retriever = VectorIndexRetriever(index=vector_index,similarity_top_k=4)\n",
    "postprocessor=SimilarityPostprocessor(similarity_top_k=0.70)\n",
    "\n",
    "query_engine = RetrieverQueryEngine(retriever=retriever, node_postprocessors=[postprocessor])\n"
   ]
  },
  {
   "cell_type": "code",
   "execution_count": 40,
   "metadata": {},
   "outputs": [],
   "source": [
    "response = query_engine.query(\"Explain the concept of energy balance and its importance in weight management.\")    "
   ]
  },
  {
   "cell_type": "code",
   "execution_count": 41,
   "metadata": {},
   "outputs": [
    {
     "name": "stdout",
     "output_type": "stream",
     "text": [
      "Energy balance refers to the relationship between the calories consumed through food and beverages and the calories expended through physical activity and bodily functions. Maintaining a balance between the calories consumed and the calories burned is crucial for weight management. When energy intake exceeds energy expenditure, weight gain can occur. Conversely, if energy expenditure exceeds energy intake, weight loss may happen. Therefore, understanding and managing energy balance is essential for achieving and maintaining a healthy weight.\n"
     ]
    }
   ],
   "source": [
    "print(response)\n"
   ]
  },
  {
   "cell_type": "code",
   "execution_count": 42,
   "metadata": {},
   "outputs": [
    {
     "name": "stdout",
     "output_type": "stream",
     "text": [
      "Final Response: Energy balance refers to the relationship between the\n",
      "calories consumed through food and beverages and the calories expended\n",
      "through physical activity and bodily functions. Maintaining a balance\n",
      "between the calories consumed and the calories burned is crucial for\n",
      "weight management. When energy intake exceeds energy expenditure,\n",
      "weight gain can occur. Conversely, if energy expenditure exceeds\n",
      "energy intake, weight loss may happen. Therefore, understanding and\n",
      "managing energy balance is essential for achieving and maintaining a\n",
      "healthy weight.\n",
      "______________________________________________________________________\n",
      "Source Node 1/4\n",
      "Node ID: 74d13857-6499-4e6e-9c61-5be804000576\n",
      "Similarity: 0.7456752605491953\n",
      "Text:\n",
      "______________________________________________________________________\n",
      "Source Node 2/4\n",
      "Node ID: 828b7d6d-ba26-4c2b-b8d7-94b0f0283e16\n",
      "Similarity: 0.7442492682654166\n",
      "Text:\n",
      "______________________________________________________________________\n",
      "Source Node 3/4\n",
      "Node ID: 53faf03d-8ae8-4911-94ef-234f775a32a8\n",
      "Similarity: 0.7437095470555718\n",
      "Text:\n",
      "______________________________________________________________________\n",
      "Source Node 4/4\n",
      "Node ID: 46c8ee08-9a40-4b55-97f4-46232c2bc38c\n",
      "Similarity: 0.743378718688235\n",
      "Text:\n",
      "Energy balance refers to the relationship between the calories consumed through food and beverages and the calories expended through physical activity and bodily functions. Maintaining a balance between the calories consumed and the calories burned is crucial for weight management. When energy intake exceeds energy expenditure, weight gain can occur. Conversely, if energy expenditure exceeds energy intake, weight loss may happen. Therefore, understanding and managing energy balance is essential for achieving and maintaining a healthy weight.\n"
     ]
    }
   ],
   "source": [
    "from llama_index.core.response.pprint_utils import pprint_response\n",
    "pprint_response(response, show_source=True)\n",
    "print(response)"
   ]
  },
  {
   "cell_type": "code",
   "execution_count": 44,
   "metadata": {},
   "outputs": [
    {
     "name": "stderr",
     "output_type": "stream",
     "text": [
      "incorrect startxref pointer(1)\n"
     ]
    },
    {
     "name": "stdout",
     "output_type": "stream",
     "text": [
      "Energy balance refers to the relationship between the energy consumed through food and beverages and the energy expended through physical activity and metabolic processes. Maintaining a balance between energy intake and energy expenditure is crucial for weight management. When energy intake exceeds energy expenditure, weight gain can occur, while if energy expenditure exceeds energy intake, weight loss may happen. Monitoring energy balance is essential for achieving and maintaining a healthy weight.\n"
     ]
    }
   ],
   "source": [
    "import os.path\n",
    "from llama_index.core import (\n",
    "    VectorStoreIndex,\n",
    "    SimpleDirectoryReader,\n",
    "    StorageContext,\n",
    "    load_index_from_storage,\n",
    ")\n",
    "\n",
    "# check if storage already exists\n",
    "PERSIST_DIR = \"./storage\"\n",
    "if not os.path.exists(PERSIST_DIR):\n",
    "    # load the documents and create the index\n",
    "    documents = SimpleDirectoryReader(\"data\").load_data()\n",
    "    index = VectorStoreIndex.from_documents(documents)\n",
    "    # store it for later\n",
    "    index.storage_context.persist(persist_dir=PERSIST_DIR)\n",
    "else:\n",
    "    # load the existing index\n",
    "    storage_context = StorageContext.from_defaults(persist_dir=PERSIST_DIR)\n",
    "    index = load_index_from_storage(storage_context)\n",
    "\n",
    "# either way we can now query the index\n",
    "query_engine = index.as_query_engine()\n",
    "response = query_engine.query(\"Explain the concept of energy balance and its importance in weight management.\")\n",
    "print(response)"
   ]
  }
 ],
 "metadata": {
  "kernelspec": {
   "display_name": "Python 3",
   "language": "python",
   "name": "python3"
  },
  "language_info": {
   "codemirror_mode": {
    "name": "ipython",
    "version": 3
   },
   "file_extension": ".py",
   "mimetype": "text/x-python",
   "name": "python",
   "nbconvert_exporter": "python",
   "pygments_lexer": "ipython3",
   "version": "3.10.0"
  }
 },
 "nbformat": 4,
 "nbformat_minor": 2
}
